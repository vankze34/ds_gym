{
 "cells": [
  {
   "cell_type": "markdown",
   "id": "f07ea5e3-ef55-4707-a7a8-f570ccffb76f",
   "metadata": {},
   "source": [
    "# Kaggle Project"
   ]
  },
  {
   "cell_type": "markdown",
   "id": "68b1d417-3465-4491-96a5-ac86ed62291f",
   "metadata": {},
   "source": [
    "## 데이터 설명\n",
    "**URL**: https://www.kaggle.com/datasets/phylake1337/fire-dataset\n",
    "\n",
    "**Task**\n",
    "1. 커스텀 데이터셋 클래스 정의\n",
    "2. 데이터셋 생성 및 데이터로더 정의\n",
    "3. 샘플이미지 출력하여 데이터 확인\n",
    "4. 데이터 분할 및 DataLoader 설정\n",
    "5. 모델 정의: CNN\n",
    "6. 평가 함수 정의\n",
    "7. 학습 및 검증\n",
    "8. Test 데이터를 사용하여 최종 성능 평가\n",
    "\n",
    "**Datasets**\n",
    "데이터셋은 두 종류의 이미지로 구성되어있음\n",
    "1. fire_images: 화재 이미지\n",
    "2. non_fire_images: 비화재 이미지\n",
    "\n",
    "데이터셋 분할은 아래와 같음\n",
    "- Train: 60%\n",
    "- Validation: 20%\n",
    "- Test: 20%\n",
    "\n",
    "**Features(x)**\n",
    "\n",
    "URL에서 받은 Datasets\n",
    "\n",
    "**Target(y)**\n",
    "- 화재: 1\n",
    "- 비화재: 0"
   ]
  },
  {
   "cell_type": "markdown",
   "id": "9347096e-e422-4b4e-b904-cc4ef0b15f29",
   "metadata": {},
   "source": [
    "## 0. Import Library & 설정 값 정의"
   ]
  },
  {
   "cell_type": "code",
   "execution_count": 1,
   "id": "e7608706-963f-44d5-b1f5-0cf4c24ef72f",
   "metadata": {},
   "outputs": [],
   "source": [
    "import torch\n",
    "import torch.nn as nn\n",
    "import torch.optim as optim\n",
    "import torch.nn.functional as F\n",
    "from torchvision import transforms\n",
    "from torchvision.transforms import ToPILImage\n",
    "from IPython.display import display\n",
    "from torch.utils.data import Dataset, DataLoader, random_split\n",
    "from PIL import Image\n",
    "import os\n",
    "import matplotlib.pyplot as plt\n",
    "\n",
    "# CUDA 사용 가능 여부 확인\n",
    "USE_CUDA = torch.cuda.is_available()\n",
    "# DEVICE 설정 (GPU 사용 가능 시 GPU 사용, 불가능 시 CPU 사용)\n",
    "DEVICE = torch.device(\"cuda\" if USE_CUDA else \"cpu\")\n",
    "# 학습 설정 값\n",
    "EPOCHS = 40\n",
    "BATCH_SIZE = 64"
   ]
  },
  {
   "cell_type": "markdown",
   "id": "dc6984e3-00f2-415d-942a-607982f58d8a",
   "metadata": {},
   "source": [
    "## 1. 커스텀 데이터셋 클래스 정의"
   ]
  },
  {
   "cell_type": "code",
   "execution_count": 2,
   "id": "7ba09079-2ada-473c-ae67-eefae42abee8",
   "metadata": {},
   "outputs": [],
   "source": [
    "class CustomDataset(Dataset):\n",
    "    def __init__(self, transform=None):\n",
    "        self.transform = transform\n",
    "        self.fire_images = []\n",
    "        self.non_fire_images = []\n",
    "\n",
    "        # 화재 이미지 경로 설정\n",
    "        fire_path = './fire_dataset/fire_images'\n",
    "        fire_files = os.listdir(fire_path)\n",
    "        for f in fire_files:\n",
    "            img = Image.open(os.path.join(fire_path, f)).convert('RGB')\n",
    "            self.fire_images.append(img)\n",
    "\n",
    "        # 비화재 이미지 경로 설정\n",
    "        non_fire_path = './fire_dataset/non_fire_images'\n",
    "        non_fire_files = os.listdir(non_fire_path)\n",
    "        for f in non_fire_files:\n",
    "            img = Image.open(os.path.join(non_fire_path, f)).convert('RGB')\n",
    "            self.non_fire_images.append(img)\n",
    "\n",
    "    def __len__(self):\n",
    "        # 데이터셋 전체 크기 반환\n",
    "        return len(self.fire_images) + len(self.non_fire_images)\n",
    "\n",
    "    def __getitem__(self, idx):\n",
    "        if idx < len(self.fire_images):\n",
    "            # idx가 화재 이미지의 개수보다 작으면 화재 이미지를 반환\n",
    "            img = self.fire_images[idx]\n",
    "            label = torch.tensor(1)  # 1: fire_images\n",
    "        else:\n",
    "            # idx가 화재 이미지의 개수 이상이면 비화재 이미지를 반환\n",
    "            img = self.non_fire_images[idx - len(self.fire_images)]\n",
    "            label = torch.tensor(0)  # 0: non_fire_images\n",
    "\n",
    "        if self.transform:\n",
    "            # 데이터셋 변환을 위한 transform이 설정되어 있으면 반환\n",
    "            img = self.transform(img)\n",
    "\n",
    "        return img, label"
   ]
  },
  {
   "cell_type": "markdown",
   "id": "f5cf2991-a303-46fa-9fcc-cd511d99bbdf",
   "metadata": {},
   "source": [
    "## 2. 데이터셋 생성 및 데이터로더 정의"
   ]
  },
  {
   "cell_type": "code",
   "execution_count": 3,
   "id": "2bafa450-31b9-4ec5-905d-af4a2d447ecd",
   "metadata": {},
   "outputs": [],
   "source": [
    "transform = transforms.Compose([\n",
    "    transforms.Resize((64, 64)), # img 크기를 (64, 64)로 변환\n",
    "    transforms.ToTensor(),       # img를 Tensor로 변환\n",
    "    transforms.Normalize((0.5, 0.5, 0.5), (0.5, 0.5, 0.5)) #정규화\n",
    "])\n",
    "\n",
    "# Custom 데이터셋 생성\n",
    "dataset = CustomDataset(transform=transform)"
   ]
  },
  {
   "cell_type": "markdown",
   "id": "b9568f66-ee2b-4e9a-92b8-f86bc3c2a40b",
   "metadata": {},
   "source": [
    "## 3. 샘플이미지 출력하여 데이터 확인"
   ]
  },
  {
   "cell_type": "code",
   "execution_count": 4,
   "id": "434e76d6-adbf-4327-9f7f-07a36d6e5399",
   "metadata": {},
   "outputs": [
    {
     "name": "stdout",
     "output_type": "stream",
     "text": [
      "Fire Image 1\n"
     ]
    },
    {
     "data": {
      "image/png": "[encoded data removed]",
      "text/plain": [
       "<PIL.Image.Image image mode=RGB size=64x64>"
      ]
     },
     "metadata": {},
     "output_type": "display_data"
    },
    {
     "name": "stdout",
     "output_type": "stream",
     "text": [
      "Fire Image 2\n"
     ]
    },
    {
     "data": {
      "image/png": "[encoded data removed]",
      "text/plain": [
       "<PIL.Image.Image image mode=RGB size=64x64>"
      ]
     },
     "metadata": {},
     "output_type": "display_data"
    },
    {
     "name": "stdout",
     "output_type": "stream",
     "text": [
      "Fire Image 3\n"
     ]
    },
    {
     "data": {
      "image/png": "[encoded data removed]",
      "text/plain": [
       "<PIL.Image.Image image mode=RGB size=64x64>"
      ]
     },
     "metadata": {},
     "output_type": "display_data"
    },
    {
     "name": "stdout",
     "output_type": "stream",
     "text": [
      "Fire Image 4\n"
     ]
    },
    {
     "data": {
      "image/png": "[encoded data removed]",
      "text/plain": [
       "<PIL.Image.Image image mode=RGB size=64x64>"
      ]
     },
     "metadata": {},
     "output_type": "display_data"
    },
    {
     "name": "stdout",
     "output_type": "stream",
     "text": [
      "Non-Fire Image 1\n"
     ]
    },
    {
     "data": {
      "image/png": "[encoded data removed]",
      "text/plain": [
       "<PIL.Image.Image image mode=RGB size=64x64>"
      ]
     },
     "metadata": {},
     "output_type": "display_data"
    },
    {
     "name": "stdout",
     "output_type": "stream",
     "text": [
      "Non-Fire Image 2\n"
     ]
    },
    {
     "data": {
      "image/png": "[encoded data removed]",
      "text/plain": [
       "<PIL.Image.Image image mode=RGB size=64x64>"
      ]
     },
     "metadata": {},
     "output_type": "display_data"
    },
    {
     "name": "stdout",
     "output_type": "stream",
     "text": [
      "Non-Fire Image 3\n"
     ]
    },
    {
     "data": {
      "image/png": "[encoded data removed]",
      "text/plain": [
       "<PIL.Image.Image image mode=RGB size=64x64>"
      ]
     },
     "metadata": {},
     "output_type": "display_data"
    },
    {
     "name": "stdout",
     "output_type": "stream",
     "text": [
      "Non-Fire Image 4\n"
     ]
    },
    {
     "data": {
      "image/png": "[encoded data removed]",
      "text/plain": [
       "<PIL.Image.Image image mode=RGB size=64x64>"
      ]
     },
     "metadata": {},
     "output_type": "display_data"
    }
   ],
   "source": [
    "# 샘플 이미지 가져오기\n",
    "fire_count = 0\n",
    "non_fire_count = 0\n",
    "\n",
    "# 샘플 이미지 출력 개수 정의\n",
    "PRINT_NUM = 4\n",
    "\n",
    "# 샘플 이미지 출력\n",
    "for i in range(len(dataset)):\n",
    "    sample_image, sample_label = dataset[i]\n",
    "    \n",
    "    if sample_label == 1 and fire_count < PRINT_NUM:\n",
    "        # 화재 이미지 출력\n",
    "        to_pil = ToPILImage()\n",
    "        sample_image = to_pil(sample_image * 0.5 + 0.5)\n",
    "        print(f\"Fire Image {fire_count + 1}\")\n",
    "        display(sample_image)\n",
    "        fire_count += 1\n",
    "        \n",
    "    elif sample_label == 0 and non_fire_count < PRINT_NUM:\n",
    "        # 비화재 이미지 출력\n",
    "        to_pil = ToPILImage()\n",
    "        sample_image = to_pil(sample_image * 0.5 + 0.5)\n",
    "        print(f\"Non-Fire Image {non_fire_count + 1}\")\n",
    "        display(sample_image)\n",
    "        non_fire_count += 1\n",
    "        \n",
    "    if fire_count >= PRINT_NUM and non_fire_count >= PRINT_NUM:\n",
    "        # 화재와 비화재 이미지가 모두 4장씩 출력되면 종료\n",
    "        break"
   ]
  },
  {
   "cell_type": "markdown",
   "id": "de8c1580-8645-4a72-9af3-120f85e49f5d",
   "metadata": {},
   "source": [
    "## 4. 데이터 분할 및 DataLoader 설정\n",
    "### (Train: 60%, Validation: 20%, Test: 20%)"
   ]
  },
  {
   "cell_type": "code",
   "execution_count": 5,
   "id": "ac01ba3d-88fa-4692-8001-a2620304d484",
   "metadata": {},
   "outputs": [],
   "source": [
    "train_size = int(0.6 * len(dataset))\n",
    "val_size = test_size = int(0.2 * len(dataset))\n",
    "if train_size + val_size + test_size != len(dataset):\n",
    "    test_size = len(dataset) - train_size - val_size\n",
    "train_dataset, val_dataset, test_dataset = random_split(dataset, [train_size, val_size, test_size])\n",
    "\n",
    "train_loader = DataLoader(train_dataset, batch_size=BATCH_SIZE, shuffle=True)\n",
    "val_loader = DataLoader(val_dataset, batch_size=BATCH_SIZE, shuffle=False)\n",
    "test_loader = DataLoader(test_dataset, batch_size=BATCH_SIZE, shuffle=False)"
   ]
  },
  {
   "cell_type": "markdown",
   "id": "45b8ba88-c16d-4a42-ac73-3bae4c97f638",
   "metadata": {},
   "source": [
    "## 5. 모델 정의: CNN"
   ]
  },
  {
   "cell_type": "code",
   "execution_count": 6,
   "id": "5182d3aa-65fe-452c-81f2-a445c8caf278",
   "metadata": {},
   "outputs": [],
   "source": [
    "class Net(nn.Module):\n",
    "    def __init__(self):\n",
    "        super(Net, self).__init__()\n",
    "        self.conv1 = nn.Conv2d(3, 32, kernel_size=3, padding=1)\n",
    "        self.conv2 = nn.Conv2d(32, 64, kernel_size=3, padding=1)\n",
    "        self.conv3 = nn.Conv2d(64, 128, kernel_size=3, padding=1)\n",
    "        self.pool = nn.MaxPool2d(2, 2)\n",
    "        self.fc1 = nn.Linear(128 * 8 * 8, 512)\n",
    "        self.fc2 = nn.Linear(512, 1)\n",
    "\n",
    "    def forward(self, x):\n",
    "        # Convolutional -> ReLU -> Pooling\n",
    "        x = self.pool(F.relu(self.conv1(x)))\n",
    "        x = self.pool(F.relu(self.conv2(x)))\n",
    "        x = self.pool(F.relu(self.conv3(x)))\n",
    "        x = x.view(x.size(0), -1)\n",
    "        x = F.relu(self.fc1(x))\n",
    "        x = F.dropout(x, training=self.training)\n",
    "        x = torch.sigmoid(self.fc2(x))\n",
    "        return x"
   ]
  },
  {
   "cell_type": "code",
   "execution_count": 7,
   "id": "22c8425d-671f-4968-817a-fbde463bcbde",
   "metadata": {},
   "outputs": [],
   "source": [
    "# 모델 생성 및 모델을 CUDA 디바이스로 전송\n",
    "model = Net().to(DEVICE)\n",
    "\n",
    "# 손실함수 정의\n",
    "criterion = nn.BCELoss()\n",
    "\n",
    "# Optimizer 정의 및 모델의 파라미터를 인자로 전달\n",
    "optimizer = optim.Adam(model.parameters())"
   ]
  },
  {
   "cell_type": "markdown",
   "id": "2968849d-8a08-48c6-8d22-9b2a29f38fce",
   "metadata": {},
   "source": [
    "## 6. 평가 함수 정의"
   ]
  },
  {
   "cell_type": "code",
   "execution_count": 8,
   "id": "a98acad8-88d5-4e61-86c7-82aa32db6c46",
   "metadata": {},
   "outputs": [],
   "source": [
    "def eval_net(loader, model, criterion, device):\n",
    "    # 모델을 평가 모드로 설정\n",
    "    model.eval()\n",
    "    correct = 0\n",
    "    total = 0\n",
    "    total_loss = 0.0\n",
    "\n",
    "    with torch.no_grad():\n",
    "        # DataLoader를 이용해 배치 단위로 데이터를 가져와 평가 진행\n",
    "        for data in loader:\n",
    "            inputs, labels = data\n",
    "            inputs, labels = inputs.to(device), labels.to(device)\n",
    "            outputs = model(inputs)\n",
    "            loss = criterion(outputs, labels.float().unsqueeze(1))\n",
    "            total_loss += loss.item()\n",
    "            # 모델의 출력값을 반올림하여 예측값 계산\n",
    "            predicted = torch.round(outputs.data)\n",
    "            total += labels.size(0)\n",
    "            # 예측값과 실제값이 일치하는 경우 정확도 증가\n",
    "            correct += (predicted == labels.unsqueeze(1)).sum().item()\n",
    "\n",
    "    # 정확도와 평균 손실 반환\n",
    "    accuracy = 100 * correct / total\n",
    "    return accuracy, total_loss / len(loader)"
   ]
  },
  {
   "cell_type": "markdown",
   "id": "5294e2c6-afe6-4a7f-9a41-cd1a5ad8d7c6",
   "metadata": {},
   "source": [
    "## 7. 학습 및 검증"
   ]
  },
  {
   "cell_type": "code",
   "execution_count": 9,
   "id": "5b055d8e-145d-44cf-abad-15247762a417",
   "metadata": {},
   "outputs": [
    {
     "name": "stdout",
     "output_type": "stream",
     "text": [
      "[Epoch 1] loss: 0.560, train_accuracy: 73.96%, val_loss: 0.353, val_accuracy: 73.37%\n",
      "[Epoch 2] loss: 0.320, train_accuracy: 93.99%, val_loss: 0.245, val_accuracy: 93.47%\n",
      "[Epoch 3] loss: 0.224, train_accuracy: 87.65%, val_loss: 0.258, val_accuracy: 88.44%\n",
      "[Epoch 4] loss: 0.171, train_accuracy: 94.16%, val_loss: 0.141, val_accuracy: 92.96%\n",
      "[Epoch 5] loss: 0.126, train_accuracy: 96.99%, val_loss: 0.090, val_accuracy: 94.97%\n",
      "[Epoch 6] loss: 0.102, train_accuracy: 97.66%, val_loss: 0.108, val_accuracy: 95.48%\n",
      "[Epoch 7] loss: 0.080, train_accuracy: 96.16%, val_loss: 0.125, val_accuracy: 93.47%\n",
      "[Epoch 8] loss: 0.067, train_accuracy: 97.83%, val_loss: 0.098, val_accuracy: 94.97%\n",
      "[Epoch 9] loss: 0.073, train_accuracy: 95.49%, val_loss: 0.151, val_accuracy: 93.47%\n",
      "[Epoch 10] loss: 0.067, train_accuracy: 97.66%, val_loss: 0.110, val_accuracy: 93.47%\n",
      "[Epoch 11] loss: 0.059, train_accuracy: 98.33%, val_loss: 0.101, val_accuracy: 95.98%\n",
      "[Epoch 12] loss: 0.047, train_accuracy: 96.83%, val_loss: 0.152, val_accuracy: 95.98%\n",
      "[Epoch 13] loss: 0.051, train_accuracy: 98.16%, val_loss: 0.099, val_accuracy: 94.47%\n",
      "[Epoch 14] loss: 0.037, train_accuracy: 99.33%, val_loss: 0.106, val_accuracy: 93.97%\n",
      "[Epoch 15] loss: 0.021, train_accuracy: 99.83%, val_loss: 0.132, val_accuracy: 94.97%\n",
      "[Epoch 16] loss: 0.054, train_accuracy: 98.66%, val_loss: 0.155, val_accuracy: 92.96%\n",
      "[Epoch 17] loss: 0.052, train_accuracy: 99.83%, val_loss: 0.120, val_accuracy: 93.97%\n",
      "[Epoch 18] loss: 0.031, train_accuracy: 99.00%, val_loss: 0.121, val_accuracy: 95.98%\n",
      "[Epoch 19] loss: 0.029, train_accuracy: 99.17%, val_loss: 0.130, val_accuracy: 94.47%\n",
      "[Epoch 20] loss: 0.017, train_accuracy: 99.67%, val_loss: 0.156, val_accuracy: 95.48%\n",
      "[Epoch 21] loss: 0.012, train_accuracy: 99.83%, val_loss: 0.140, val_accuracy: 93.47%\n",
      "[Epoch 22] loss: 0.007, train_accuracy: 100.00%, val_loss: 0.145, val_accuracy: 95.98%\n",
      "[Epoch 23] loss: 0.006, train_accuracy: 100.00%, val_loss: 0.165, val_accuracy: 94.47%\n",
      "[Epoch 24] loss: 0.007, train_accuracy: 100.00%, val_loss: 0.174, val_accuracy: 94.47%\n",
      "[Epoch 25] loss: 0.007, train_accuracy: 100.00%, val_loss: 0.194, val_accuracy: 95.98%\n",
      "[Epoch 26] loss: 0.007, train_accuracy: 99.83%, val_loss: 0.187, val_accuracy: 93.97%\n",
      "[Epoch 27] loss: 0.005, train_accuracy: 99.67%, val_loss: 0.531, val_accuracy: 94.97%\n",
      "[Epoch 28] loss: 0.006, train_accuracy: 100.00%, val_loss: 0.184, val_accuracy: 93.97%\n",
      "[Epoch 29] loss: 0.003, train_accuracy: 100.00%, val_loss: 0.523, val_accuracy: 95.98%\n",
      "[Epoch 30] loss: 0.002, train_accuracy: 100.00%, val_loss: 0.204, val_accuracy: 93.97%\n",
      "[Epoch 31] loss: 0.002, train_accuracy: 100.00%, val_loss: 0.196, val_accuracy: 94.97%\n",
      "[Epoch 32] loss: 0.001, train_accuracy: 100.00%, val_loss: 0.538, val_accuracy: 96.48%\n",
      "[Epoch 33] loss: 0.001, train_accuracy: 100.00%, val_loss: 0.534, val_accuracy: 95.48%\n",
      "[Epoch 34] loss: 0.001, train_accuracy: 100.00%, val_loss: 0.538, val_accuracy: 94.97%\n",
      "[Epoch 35] loss: 0.000, train_accuracy: 100.00%, val_loss: 0.540, val_accuracy: 95.98%\n",
      "[Epoch 36] loss: 0.000, train_accuracy: 100.00%, val_loss: 0.544, val_accuracy: 95.48%\n",
      "[Epoch 37] loss: 0.000, train_accuracy: 100.00%, val_loss: 0.547, val_accuracy: 95.48%\n",
      "[Epoch 38] loss: 0.000, train_accuracy: 100.00%, val_loss: 0.549, val_accuracy: 95.48%\n",
      "[Epoch 39] loss: 0.000, train_accuracy: 100.00%, val_loss: 0.554, val_accuracy: 94.97%\n",
      "[Epoch 40] loss: 0.000, train_accuracy: 100.00%, val_loss: 0.231, val_accuracy: 95.48%\n",
      "Finished Training\n"
     ]
    }
   ],
   "source": [
    "for epoch in range(EPOCHS):\n",
    "    # 모델을 학습 모드로 설정\n",
    "    model.train()\n",
    "    running_loss = 0.0\n",
    "    for i, data in enumerate(train_loader, 0):\n",
    "        inputs, labels = data\n",
    "        inputs, labels = inputs.to(DEVICE), labels.to(DEVICE)\n",
    "        optimizer.zero_grad()\n",
    "        outputs = model(inputs)\n",
    "        loss = criterion(outputs, labels.float().unsqueeze(1)) # 오차 계산\n",
    "        loss.backward()\n",
    "        optimizer.step() # 매개변수 업데이트\n",
    "        running_loss += loss.item()\n",
    "\n",
    "    # 훈련 데이터와 검증 데이터의 정확도와 손실을 계산\n",
    "    train_accuracy, train_loss = eval_net(train_loader, model, criterion, DEVICE)\n",
    "    val_accuracy, val_loss = eval_net(val_loader, model, criterion, DEVICE)\n",
    "    \n",
    "    # 현재 epoch의 훈련과 검증 결과를 출력\n",
    "    print('[Epoch %d] loss: %.3f, train_accuracy: %.2f%%, val_loss: %.3f, val_accuracy: %.2f%%'\n",
    "          % (epoch + 1, running_loss / len(train_loader), train_accuracy, val_loss, val_accuracy))\n",
    "\n",
    "print('Finished Training')"
   ]
  },
  {
   "cell_type": "markdown",
   "id": "dd42983b-abb2-4afa-950f-b3fed44b0c1e",
   "metadata": {},
   "source": [
    "## 8. Test 데이터를 사용하여 최종 성능 평가"
   ]
  },
  {
   "cell_type": "code",
   "execution_count": 10,
   "id": "5f95bac4-4b65-49c7-be10-47710c0c6519",
   "metadata": {},
   "outputs": [
    {
     "name": "stdout",
     "output_type": "stream",
     "text": [
      "Test Loss: 0.244, Test Accuracy: 98.51%\n"
     ]
    }
   ],
   "source": [
    "test_accuracy, test_loss = eval_net(test_loader, model, criterion, DEVICE)\n",
    "print('Test Loss: %.3f, Test Accuracy: %.2f%%' % (test_loss, test_accuracy))"
   ]
  }
 ],
 "metadata": {
  "kernelspec": {
   "display_name": "Python 3 (ipykernel)",
   "language": "python",
   "name": "python3"
  },
  "language_info": {
   "codemirror_mode": {
    "name": "ipython",
    "version": 3
   },
   "file_extension": ".py",
   "mimetype": "text/x-python",
   "name": "python",
   "nbconvert_exporter": "python",
   "pygments_lexer": "ipython3",
   "version": "3.9.13"
  }
 },
 "nbformat": 4,
 "nbformat_minor": 5
}
